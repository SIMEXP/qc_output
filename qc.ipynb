{
 "cells": [
  {
   "cell_type": "code",
   "execution_count": 1,
   "metadata": {},
   "outputs": [],
   "source": [
    "from pathlib import Path\n",
    "import pandas as pd\n",
    "\n",
    "def merge_multisite(dataset):\n",
    "    paths = Path(f\"data/{dataset}\").glob(\"*/*.tsv\")\n",
    "    df_dataset = pd.DataFrame()\n",
    "    for f in paths:\n",
    "        task = f.parts[-1].split(\"_\")[0].split(\"-\")[-1]\n",
    "        df = pd.read_csv(f, sep=\"\\t\", index_col=0, converters={'participant_id': str})\n",
    "        df[\"dataset\"] = dataset\n",
    "        df[\"site\"] = f.parts[-2]\n",
    "        df[\"task\"] = task\n",
    "        df_dataset = pd.concat([df_dataset, df])\n",
    "    df_dataset.to_csv(f\"data/{dataset}_qcreport.tsv\", sep=\"\\t\")\n",
    "    return df_dataset\n",
    "\n",
    "\n",
    "def merge_multisubject(dataset):\n",
    "    paths = Path(f\"data/{dataset}\").glob(\"*/*/task-*_report.tsv\")\n",
    "    df_dataset = pd.DataFrame()\n",
    "    for f in paths:\n",
    "        task = f.parts[-1].split(\"_\")[0].split(\"-\")[-1]\n",
    "        df = pd.read_csv(f, sep=\"\\t\", index_col=0, converters={'participant_id': str})\n",
    "        df[\"dataset\"] = dataset\n",
    "        df[\"task\"] = task\n",
    "        df_dataset = pd.concat([df_dataset, df])\n",
    "    df_dataset.to_csv(f\"data/{dataset}_qcreport.tsv\", sep=\"\\t\")\n",
    "    return df_dataset\n",
    "\n",
    "\n",
    "def merge_multitask(dataset):\n",
    "    paths = Path(f\"data/{dataset}\").glob(\"task-*_report.tsv\")\n",
    "    df_dataset = pd.DataFrame()\n",
    "    for f in paths:\n",
    "        task = f.parts[-1].split(\"_\")[0].split(\"-\")[-1]\n",
    "        df = pd.read_csv(f, sep=\"\\t\", index_col=0, converters={'participant_id': str})\n",
    "        df[\"dataset\"] = dataset\n",
    "        df[\"task\"] = task\n",
    "        df_dataset = pd.concat([df_dataset, df])\n",
    "    df_dataset.to_csv(f\"data/{dataset}_qcreport.tsv\", sep=\"\\t\")\n",
    "    return df_dataset\n",
    "\n",
    "# abide1 = merge_multisite(\"abide1\")\n",
    "# abide2 = merge_multisite(\"abide2\")\n",
    "# adhd200 = merge_multisite(\"adhd200\")\n",
    "# cimaq = merge_multisubject(\"cimaq\")\n",
    "# oasis3 = merge_multisubject(\"oasis3\")\n",
    "# adni = merge_multisubject(\"adni\")\n",
    "# srpbs = merge_multisubject(\"srpbs\")\n",
    "# ds000030 = merge_multitask(\"ds000030\")\n",
    "# hcpep = merge_multisubject(\"hcpep\") \n",
    "# compassnd = merge_multisubject(\"compassnd\")"
   ]
  },
  {
   "cell_type": "code",
   "execution_count": 2,
   "metadata": {},
   "outputs": [],
   "source": [
    "import shutil\n",
    "\n",
    "#shutil.copy(\"data/cobre/task-rest_report.tsv\", \"data/cobre_qcreport.tsv\")\n",
    "#shutil.copy(\"data/ukbb/task-rest_scrubbing-0.5_report.tsv\", \"data/ukbb_qcreport.tsv\")"
   ]
  },
  {
   "cell_type": "code",
   "execution_count": 10,
   "metadata": {},
   "outputs": [],
   "source": [
    "import seaborn as sns\n",
    "\n",
    "data = Path(\"data\").glob(\"*.tsv\")\n",
    "\n",
    "df = pd.DataFrame()\n",
    "for f in data:\n",
    "    tmp = pd.read_csv(f, sep=\"\\t\", index_col=0, converters={'participant_id': str})\n",
    "    if \"ukbb\" in f.name:\n",
    "        tmp[\"dataset\"] = \"ukbb\"\n",
    "        tmp = tmp.drop(columns=['Unnamed: 0'])\n",
    "        tmp.set_index('identifier', inplace=True) # handled slightly differently due to extra unnamed column\n",
    "    if \"cobre\" in f.name:\n",
    "        tmp[\"dataset\"] = \"cobre\"\n",
    "    df = pd.concat([df, tmp])\n",
    "rest_df = df[df[\"task\"].str.contains(\"rest\")]"
   ]
  },
  {
   "cell_type": "code",
   "execution_count": 11,
   "metadata": {},
   "outputs": [
    {
     "data": {
      "text/plain": [
       "array(['abide1', 'adni', 'oasis3', 'cobre', 'cimaq', 'adhd200', 'hcpep',\n",
       "       'srpbs', 'ds000030', 'compassnd', 'ukbb', 'abide2'], dtype=object)"
      ]
     },
     "execution_count": 11,
     "metadata": {},
     "output_type": "execute_result"
    }
   ],
   "source": [
    "rest_df[\"dataset\"].unique()"
   ]
  },
  {
   "cell_type": "code",
   "execution_count": 12,
   "metadata": {},
   "outputs": [
    {
     "data": {
      "text/html": [
       "<div>\n",
       "<style scoped>\n",
       "    .dataframe tbody tr th:only-of-type {\n",
       "        vertical-align: middle;\n",
       "    }\n",
       "\n",
       "    .dataframe tbody tr th {\n",
       "        vertical-align: top;\n",
       "    }\n",
       "\n",
       "    .dataframe thead th {\n",
       "        text-align: right;\n",
       "    }\n",
       "</style>\n",
       "<table border=\"1\" class=\"dataframe\">\n",
       "  <thead>\n",
       "    <tr style=\"text-align: right;\">\n",
       "      <th></th>\n",
       "      <th>pass_func_qc</th>\n",
       "      <th>proportion_kept</th>\n",
       "      <th>mean_fd_raw</th>\n",
       "    </tr>\n",
       "    <tr>\n",
       "      <th>dataset</th>\n",
       "      <th></th>\n",
       "      <th></th>\n",
       "      <th></th>\n",
       "    </tr>\n",
       "  </thead>\n",
       "  <tbody>\n",
       "    <tr>\n",
       "      <th>abide1</th>\n",
       "      <td>0.945374</td>\n",
       "      <td>0.937643</td>\n",
       "      <td>0.199775</td>\n",
       "    </tr>\n",
       "    <tr>\n",
       "      <th>abide2</th>\n",
       "      <td>0.930831</td>\n",
       "      <td>0.926014</td>\n",
       "      <td>0.231814</td>\n",
       "    </tr>\n",
       "    <tr>\n",
       "      <th>adhd200</th>\n",
       "      <td>0.908692</td>\n",
       "      <td>0.912412</td>\n",
       "      <td>0.332399</td>\n",
       "    </tr>\n",
       "    <tr>\n",
       "      <th>adni</th>\n",
       "      <td>0.701646</td>\n",
       "      <td>0.899972</td>\n",
       "      <td>0.247926</td>\n",
       "    </tr>\n",
       "    <tr>\n",
       "      <th>cimaq</th>\n",
       "      <td>0.859740</td>\n",
       "      <td>0.932282</td>\n",
       "      <td>0.228227</td>\n",
       "    </tr>\n",
       "    <tr>\n",
       "      <th>cobre</th>\n",
       "      <td>0.824324</td>\n",
       "      <td>0.798953</td>\n",
       "      <td>0.360495</td>\n",
       "    </tr>\n",
       "    <tr>\n",
       "      <th>compassnd</th>\n",
       "      <td>0.875635</td>\n",
       "      <td>0.931864</td>\n",
       "      <td>0.245436</td>\n",
       "    </tr>\n",
       "    <tr>\n",
       "      <th>ds000030</th>\n",
       "      <td>0.967871</td>\n",
       "      <td>0.939766</td>\n",
       "      <td>0.187552</td>\n",
       "    </tr>\n",
       "    <tr>\n",
       "      <th>hcpep</th>\n",
       "      <td>0.983075</td>\n",
       "      <td>0.974867</td>\n",
       "      <td>0.175951</td>\n",
       "    </tr>\n",
       "    <tr>\n",
       "      <th>oasis3</th>\n",
       "      <td>0.749540</td>\n",
       "      <td>0.874184</td>\n",
       "      <td>0.296304</td>\n",
       "    </tr>\n",
       "    <tr>\n",
       "      <th>srpbs</th>\n",
       "      <td>0.763402</td>\n",
       "      <td>0.966468</td>\n",
       "      <td>0.147507</td>\n",
       "    </tr>\n",
       "    <tr>\n",
       "      <th>ukbb</th>\n",
       "      <td>0.980296</td>\n",
       "      <td>0.946115</td>\n",
       "      <td>0.204753</td>\n",
       "    </tr>\n",
       "  </tbody>\n",
       "</table>\n",
       "</div>"
      ],
      "text/plain": [
       "           pass_func_qc  proportion_kept  mean_fd_raw\n",
       "dataset                                              \n",
       "abide1         0.945374         0.937643     0.199775\n",
       "abide2         0.930831         0.926014     0.231814\n",
       "adhd200        0.908692         0.912412     0.332399\n",
       "adni           0.701646         0.899972     0.247926\n",
       "cimaq          0.859740         0.932282     0.228227\n",
       "cobre          0.824324         0.798953     0.360495\n",
       "compassnd      0.875635         0.931864     0.245436\n",
       "ds000030       0.967871         0.939766     0.187552\n",
       "hcpep          0.983075         0.974867     0.175951\n",
       "oasis3         0.749540         0.874184     0.296304\n",
       "srpbs          0.763402         0.966468     0.147507\n",
       "ukbb           0.980296         0.946115     0.204753"
      ]
     },
     "execution_count": 12,
     "metadata": {},
     "output_type": "execute_result"
    }
   ],
   "source": [
    "rest_df[[\"dataset\", \"pass_func_qc\", \"proportion_kept\", \"mean_fd_raw\"]].groupby(\"dataset\").mean()"
   ]
  },
  {
   "cell_type": "code",
   "execution_count": 13,
   "metadata": {},
   "outputs": [
    {
     "name": "stderr",
     "output_type": "stream",
     "text": [
      "/tmp/ipykernel_1619304/2817345161.py:1: FutureWarning: The default value of regex will change from True to False in a future version.\n",
      "  rest_df.loc[rest_df['dataset'] == 'adni', 'ses'] = rest_df.loc[rest_df['dataset'] == 'adni', 'ses'].astype(str).str.replace(r'\\.0$', '') # at some point adni sessions became floats\n"
     ]
    }
   ],
   "source": [
    "rest_df.loc[rest_df['dataset'] == 'adni', 'ses'] = rest_df.loc[rest_df['dataset'] == 'adni', 'ses'].astype(str).str.replace(r'\\.0$', '') # at some point adni sessions became floats"
   ]
  },
  {
   "cell_type": "code",
   "execution_count": 14,
   "metadata": {},
   "outputs": [
    {
     "name": "stderr",
     "output_type": "stream",
     "text": [
      "/tmp/ipykernel_1619304/4195814074.py:1: SettingWithCopyWarning: \n",
      "A value is trying to be set on a copy of a slice from a DataFrame.\n",
      "Try using .loc[row_indexer,col_indexer] = value instead\n",
      "\n",
      "See the caveats in the documentation: https://pandas.pydata.org/pandas-docs/stable/user_guide/indexing.html#returning-a-view-versus-a-copy\n",
      "  rest_df['ses'] = rest_df['ses'].astype(str)\n"
     ]
    }
   ],
   "source": [
    "rest_df['ses'] = rest_df['ses'].astype(str)"
   ]
  },
  {
   "cell_type": "code",
   "execution_count": 15,
   "metadata": {},
   "outputs": [],
   "source": [
    "rest_df = rest_df[rest_df['task'] == 'rest'] # because OASIS3 restMB4 scans were processed but we don't want those"
   ]
  },
  {
   "cell_type": "code",
   "execution_count": 16,
   "metadata": {},
   "outputs": [],
   "source": [
    "rest_df.to_csv('rest_df.tsv', sep=\"\\t\") "
   ]
  },
  {
   "cell_type": "code",
   "execution_count": null,
   "metadata": {},
   "outputs": [],
   "source": []
  }
 ],
 "metadata": {
  "kernelspec": {
   "display_name": "Python 3 (ipykernel)",
   "language": "python",
   "name": "python3"
  },
  "language_info": {
   "codemirror_mode": {
    "name": "ipython",
    "version": 3
   },
   "file_extension": ".py",
   "mimetype": "text/x-python",
   "name": "python",
   "nbconvert_exporter": "python",
   "pygments_lexer": "ipython3",
   "version": "3.10.10"
  }
 },
 "nbformat": 4,
 "nbformat_minor": 2
}
